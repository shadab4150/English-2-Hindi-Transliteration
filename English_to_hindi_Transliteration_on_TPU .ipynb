{
  "nbformat": 4,
  "nbformat_minor": 0,
  "metadata": {
    "colab": {
      "provenance": []
    },
    "kernelspec": {
      "name": "python3",
      "display_name": "Python 3"
    },
    "accelerator": "TPU",
    "gpuClass": "standard"
  },
  "cells": [
    {
      "cell_type": "markdown",
      "source": [
        "**What is transliteration?**\n",
        "\n",
        "Transliteration refers to the method of mapping from one system of writing to another based on phonetic similarity.\n",
        "\n",
        "**For example, converting “namaste” to “नमस्ते”.**\n",
        "\n",
        "**(Remember that “transliteration” is different from “translation”)**"
      ],
      "metadata": {
        "id": "TVm1_idkJydb"
      }
    },
    {
      "cell_type": "markdown",
      "source": [
        "# English to hindi Transliteration on TPUs"
      ],
      "metadata": {
        "id": "ippjMlqQIYTm"
      }
    },
    {
      "cell_type": "code",
      "source": [
        "!unzip /content/NEWS2018_DATASET_04.zip"
      ],
      "metadata": {
        "colab": {
          "base_uri": "https://localhost:8080/"
        },
        "id": "IaJ6nXSTgCut",
        "outputId": "a7fac5f5-d840-497d-cbf2-fc068030596a"
      },
      "execution_count": null,
      "outputs": [
        {
          "output_type": "stream",
          "name": "stdout",
          "text": [
            "Archive:  /content/NEWS2018_DATASET_04.zip\n",
            "  inflating: NEWS2018_DATASET_04/NEWS2018_B-HeEn_dev.xml  \n",
            "  inflating: NEWS2018_DATASET_04/NEWS2018_B-HeEn_trn.xml  \n",
            "  inflating: NEWS2018_DATASET_04/NEWS2018_M-EnBa_dev.xml  \n",
            "  inflating: NEWS2018_DATASET_04/NEWS2018_M-EnBa_trn.xml  \n",
            "  inflating: NEWS2018_DATASET_04/NEWS2018_M-EnHi_dev.xml  \n",
            "  inflating: NEWS2018_DATASET_04/NEWS2018_M-EnHi_trn.xml  \n",
            "  inflating: NEWS2018_DATASET_04/NEWS2018_M-EnKa_dev.xml  \n",
            "  inflating: NEWS2018_DATASET_04/NEWS2018_M-EnKa_trn.xml  \n",
            "  inflating: NEWS2018_DATASET_04/NEWS2018_M-EnTa_dev.xml  \n",
            "  inflating: NEWS2018_DATASET_04/NEWS2018_M-EnTa_trn.xml  \n",
            "  inflating: NEWS2018_DATASET_04/NEWS2018_T-EnHe_dev.xml  \n",
            "  inflating: NEWS2018_DATASET_04/NEWS2018_T-EnHe_trn.xml  \n"
          ]
        }
      ]
    },
    {
      "cell_type": "markdown",
      "source": [
        "### Loading libraries"
      ],
      "metadata": {
        "id": "7hqzUFsGIbnF"
      }
    },
    {
      "cell_type": "code",
      "source": [
        "import tensorflow as tf\n",
        "import pandas as pd\n",
        "import numpy as np\n",
        "import joblib\n",
        "from tensorflow.keras.preprocessing.text import Tokenizer\n",
        "from tensorflow.keras.preprocessing.sequence import pad_sequences"
      ],
      "metadata": {
        "id": "qzAbH3-ljY29"
      },
      "execution_count": null,
      "outputs": []
    },
    {
      "cell_type": "code",
      "source": [
        "df = pd.read_xml('/content/NEWS2018_DATASET_04/NEWS2018_M-EnHi_trn.xml')\n",
        "val = pd.read_xml('/content/NEWS2018_DATASET_04/NEWS2018_M-EnHi_dev.xml')"
      ],
      "metadata": {
        "id": "u4oZmBkQjmN4"
      },
      "execution_count": null,
      "outputs": []
    },
    {
      "cell_type": "code",
      "source": [
        "name_map = {'SourceName':'English_text','TargetName':'Hindi_text'}\n",
        "df.rename(columns=name_map,inplace=True)\n",
        "val.rename(columns=name_map,inplace=True)"
      ],
      "metadata": {
        "id": "gWcTb4uuMZdy"
      },
      "execution_count": null,
      "outputs": []
    },
    {
      "cell_type": "code",
      "source": [
        "df.sample(5)"
      ],
      "metadata": {
        "colab": {
          "base_uri": "https://localhost:8080/",
          "height": 206
        },
        "id": "PhMDjMhnMa29",
        "outputId": "87b34543-d15f-48d3-994f-7d5943d06a99"
      },
      "execution_count": null,
      "outputs": [
        {
          "output_type": "execute_result",
          "data": {
            "text/plain": [
              "        ID           English_text           Hindi_text\n",
              "8689  8690  nicholas appert award  निकोलस एपर्ट अवार्ड\n",
              "9013  9014        paise ki gudiya       पैसे की गुड़िया\n",
              "7003  7004               lakeeren               लकीरें\n",
              "6359  6360                   kala                 काला\n",
              "778    779             ambardekar            आंबर्डेकर"
            ],
            "text/html": [
              "\n",
              "  <div id=\"df-c20f874d-7d61-40a6-ab47-be483f84ee24\">\n",
              "    <div class=\"colab-df-container\">\n",
              "      <div>\n",
              "<style scoped>\n",
              "    .dataframe tbody tr th:only-of-type {\n",
              "        vertical-align: middle;\n",
              "    }\n",
              "\n",
              "    .dataframe tbody tr th {\n",
              "        vertical-align: top;\n",
              "    }\n",
              "\n",
              "    .dataframe thead th {\n",
              "        text-align: right;\n",
              "    }\n",
              "</style>\n",
              "<table border=\"1\" class=\"dataframe\">\n",
              "  <thead>\n",
              "    <tr style=\"text-align: right;\">\n",
              "      <th></th>\n",
              "      <th>ID</th>\n",
              "      <th>English_text</th>\n",
              "      <th>Hindi_text</th>\n",
              "    </tr>\n",
              "  </thead>\n",
              "  <tbody>\n",
              "    <tr>\n",
              "      <th>8689</th>\n",
              "      <td>8690</td>\n",
              "      <td>nicholas appert award</td>\n",
              "      <td>निकोलस एपर्ट अवार्ड</td>\n",
              "    </tr>\n",
              "    <tr>\n",
              "      <th>9013</th>\n",
              "      <td>9014</td>\n",
              "      <td>paise ki gudiya</td>\n",
              "      <td>पैसे की गुड़िया</td>\n",
              "    </tr>\n",
              "    <tr>\n",
              "      <th>7003</th>\n",
              "      <td>7004</td>\n",
              "      <td>lakeeren</td>\n",
              "      <td>लकीरें</td>\n",
              "    </tr>\n",
              "    <tr>\n",
              "      <th>6359</th>\n",
              "      <td>6360</td>\n",
              "      <td>kala</td>\n",
              "      <td>काला</td>\n",
              "    </tr>\n",
              "    <tr>\n",
              "      <th>778</th>\n",
              "      <td>779</td>\n",
              "      <td>ambardekar</td>\n",
              "      <td>आंबर्डेकर</td>\n",
              "    </tr>\n",
              "  </tbody>\n",
              "</table>\n",
              "</div>\n",
              "      <button class=\"colab-df-convert\" onclick=\"convertToInteractive('df-c20f874d-7d61-40a6-ab47-be483f84ee24')\"\n",
              "              title=\"Convert this dataframe to an interactive table.\"\n",
              "              style=\"display:none;\">\n",
              "        \n",
              "  <svg xmlns=\"http://www.w3.org/2000/svg\" height=\"24px\"viewBox=\"0 0 24 24\"\n",
              "       width=\"24px\">\n",
              "    <path d=\"M0 0h24v24H0V0z\" fill=\"none\"/>\n",
              "    <path d=\"M18.56 5.44l.94 2.06.94-2.06 2.06-.94-2.06-.94-.94-2.06-.94 2.06-2.06.94zm-11 1L8.5 8.5l.94-2.06 2.06-.94-2.06-.94L8.5 2.5l-.94 2.06-2.06.94zm10 10l.94 2.06.94-2.06 2.06-.94-2.06-.94-.94-2.06-.94 2.06-2.06.94z\"/><path d=\"M17.41 7.96l-1.37-1.37c-.4-.4-.92-.59-1.43-.59-.52 0-1.04.2-1.43.59L10.3 9.45l-7.72 7.72c-.78.78-.78 2.05 0 2.83L4 21.41c.39.39.9.59 1.41.59.51 0 1.02-.2 1.41-.59l7.78-7.78 2.81-2.81c.8-.78.8-2.07 0-2.86zM5.41 20L4 18.59l7.72-7.72 1.47 1.35L5.41 20z\"/>\n",
              "  </svg>\n",
              "      </button>\n",
              "      \n",
              "  <style>\n",
              "    .colab-df-container {\n",
              "      display:flex;\n",
              "      flex-wrap:wrap;\n",
              "      gap: 12px;\n",
              "    }\n",
              "\n",
              "    .colab-df-convert {\n",
              "      background-color: #E8F0FE;\n",
              "      border: none;\n",
              "      border-radius: 50%;\n",
              "      cursor: pointer;\n",
              "      display: none;\n",
              "      fill: #1967D2;\n",
              "      height: 32px;\n",
              "      padding: 0 0 0 0;\n",
              "      width: 32px;\n",
              "    }\n",
              "\n",
              "    .colab-df-convert:hover {\n",
              "      background-color: #E2EBFA;\n",
              "      box-shadow: 0px 1px 2px rgba(60, 64, 67, 0.3), 0px 1px 3px 1px rgba(60, 64, 67, 0.15);\n",
              "      fill: #174EA6;\n",
              "    }\n",
              "\n",
              "    [theme=dark] .colab-df-convert {\n",
              "      background-color: #3B4455;\n",
              "      fill: #D2E3FC;\n",
              "    }\n",
              "\n",
              "    [theme=dark] .colab-df-convert:hover {\n",
              "      background-color: #434B5C;\n",
              "      box-shadow: 0px 1px 3px 1px rgba(0, 0, 0, 0.15);\n",
              "      filter: drop-shadow(0px 1px 2px rgba(0, 0, 0, 0.3));\n",
              "      fill: #FFFFFF;\n",
              "    }\n",
              "  </style>\n",
              "\n",
              "      <script>\n",
              "        const buttonEl =\n",
              "          document.querySelector('#df-c20f874d-7d61-40a6-ab47-be483f84ee24 button.colab-df-convert');\n",
              "        buttonEl.style.display =\n",
              "          google.colab.kernel.accessAllowed ? 'block' : 'none';\n",
              "\n",
              "        async function convertToInteractive(key) {\n",
              "          const element = document.querySelector('#df-c20f874d-7d61-40a6-ab47-be483f84ee24');\n",
              "          const dataTable =\n",
              "            await google.colab.kernel.invokeFunction('convertToInteractive',\n",
              "                                                     [key], {});\n",
              "          if (!dataTable) return;\n",
              "\n",
              "          const docLinkHtml = 'Like what you see? Visit the ' +\n",
              "            '<a target=\"_blank\" href=https://colab.research.google.com/notebooks/data_table.ipynb>data table notebook</a>'\n",
              "            + ' to learn more about interactive tables.';\n",
              "          element.innerHTML = '';\n",
              "          dataTable['output_type'] = 'display_data';\n",
              "          await google.colab.output.renderOutput(dataTable, element);\n",
              "          const docLink = document.createElement('div');\n",
              "          docLink.innerHTML = docLinkHtml;\n",
              "          element.appendChild(docLink);\n",
              "        }\n",
              "      </script>\n",
              "    </div>\n",
              "  </div>\n",
              "  "
            ]
          },
          "metadata": {},
          "execution_count": 24
        }
      ]
    },
    {
      "cell_type": "markdown",
      "source": [
        "### data preprocessing"
      ],
      "metadata": {
        "id": "2CAOn3kTIez3"
      }
    },
    {
      "cell_type": "code",
      "source": [
        "eng_text = df['English_text'].tolist()\n",
        "hn_text = df['Hindi_text'].tolist()\n",
        "english_text = []\n",
        "hindi_text = []\n",
        "for x,y in zip(eng_text,hn_text):\n",
        "    a1 = x.split()\n",
        "    a2 = y.split()\n",
        "    if len(a1)==len(a2):\n",
        "        english_text += a1\n",
        "        hindi_text += a2"
      ],
      "metadata": {
        "id": "2Ablq-CwBihU"
      },
      "execution_count": null,
      "outputs": []
    },
    {
      "cell_type": "code",
      "source": [
        "len(english_text),len(hindi_text)"
      ],
      "metadata": {
        "colab": {
          "base_uri": "https://localhost:8080/"
        },
        "id": "UdnhsrAXBijl",
        "outputId": "43d79a29-cae7-43fa-d1dc-6526fdcbd832"
      },
      "execution_count": null,
      "outputs": [
        {
          "output_type": "execute_result",
          "data": {
            "text/plain": [
              "(18996, 18996)"
            ]
          },
          "metadata": {},
          "execution_count": 26
        }
      ]
    },
    {
      "cell_type": "code",
      "source": [
        "df_trn = pd.DataFrame(np.column_stack((english_text,hindi_text)),columns=['English_text','Hindi_text'])\n",
        "df_trn.sample(n=10)"
      ],
      "metadata": {
        "colab": {
          "base_uri": "https://localhost:8080/",
          "height": 362
        },
        "id": "TI3yO5jICV7y",
        "outputId": "d4a174cd-7030-4c97-de30-4019cbae7f62"
      },
      "execution_count": null,
      "outputs": [
        {
          "output_type": "execute_result",
          "data": {
            "text/plain": [
              "      English_text Hindi_text\n",
              "7284         silva     सिल्वा\n",
              "17400        forts   फोर्ट्‍स\n",
              "13145         coat        कोट\n",
              "3953      chetanaa      चेतना\n",
              "6082        faraar       फरार\n",
              "15168          bhi         भी\n",
              "4475         crete      क्रेट\n",
              "868          akash       आकाश\n",
              "8368         imran      इमरान\n",
              "18882  goonasekera   गूरसेकरा"
            ],
            "text/html": [
              "\n",
              "  <div id=\"df-ab1117b7-b7af-4387-aa37-dbbf8fc20b29\">\n",
              "    <div class=\"colab-df-container\">\n",
              "      <div>\n",
              "<style scoped>\n",
              "    .dataframe tbody tr th:only-of-type {\n",
              "        vertical-align: middle;\n",
              "    }\n",
              "\n",
              "    .dataframe tbody tr th {\n",
              "        vertical-align: top;\n",
              "    }\n",
              "\n",
              "    .dataframe thead th {\n",
              "        text-align: right;\n",
              "    }\n",
              "</style>\n",
              "<table border=\"1\" class=\"dataframe\">\n",
              "  <thead>\n",
              "    <tr style=\"text-align: right;\">\n",
              "      <th></th>\n",
              "      <th>English_text</th>\n",
              "      <th>Hindi_text</th>\n",
              "    </tr>\n",
              "  </thead>\n",
              "  <tbody>\n",
              "    <tr>\n",
              "      <th>7284</th>\n",
              "      <td>silva</td>\n",
              "      <td>सिल्वा</td>\n",
              "    </tr>\n",
              "    <tr>\n",
              "      <th>17400</th>\n",
              "      <td>forts</td>\n",
              "      <td>फोर्ट्‍स</td>\n",
              "    </tr>\n",
              "    <tr>\n",
              "      <th>13145</th>\n",
              "      <td>coat</td>\n",
              "      <td>कोट</td>\n",
              "    </tr>\n",
              "    <tr>\n",
              "      <th>3953</th>\n",
              "      <td>chetanaa</td>\n",
              "      <td>चेतना</td>\n",
              "    </tr>\n",
              "    <tr>\n",
              "      <th>6082</th>\n",
              "      <td>faraar</td>\n",
              "      <td>फरार</td>\n",
              "    </tr>\n",
              "    <tr>\n",
              "      <th>15168</th>\n",
              "      <td>bhi</td>\n",
              "      <td>भी</td>\n",
              "    </tr>\n",
              "    <tr>\n",
              "      <th>4475</th>\n",
              "      <td>crete</td>\n",
              "      <td>क्रेट</td>\n",
              "    </tr>\n",
              "    <tr>\n",
              "      <th>868</th>\n",
              "      <td>akash</td>\n",
              "      <td>आकाश</td>\n",
              "    </tr>\n",
              "    <tr>\n",
              "      <th>8368</th>\n",
              "      <td>imran</td>\n",
              "      <td>इमरान</td>\n",
              "    </tr>\n",
              "    <tr>\n",
              "      <th>18882</th>\n",
              "      <td>goonasekera</td>\n",
              "      <td>गूरसेकरा</td>\n",
              "    </tr>\n",
              "  </tbody>\n",
              "</table>\n",
              "</div>\n",
              "      <button class=\"colab-df-convert\" onclick=\"convertToInteractive('df-ab1117b7-b7af-4387-aa37-dbbf8fc20b29')\"\n",
              "              title=\"Convert this dataframe to an interactive table.\"\n",
              "              style=\"display:none;\">\n",
              "        \n",
              "  <svg xmlns=\"http://www.w3.org/2000/svg\" height=\"24px\"viewBox=\"0 0 24 24\"\n",
              "       width=\"24px\">\n",
              "    <path d=\"M0 0h24v24H0V0z\" fill=\"none\"/>\n",
              "    <path d=\"M18.56 5.44l.94 2.06.94-2.06 2.06-.94-2.06-.94-.94-2.06-.94 2.06-2.06.94zm-11 1L8.5 8.5l.94-2.06 2.06-.94-2.06-.94L8.5 2.5l-.94 2.06-2.06.94zm10 10l.94 2.06.94-2.06 2.06-.94-2.06-.94-.94-2.06-.94 2.06-2.06.94z\"/><path d=\"M17.41 7.96l-1.37-1.37c-.4-.4-.92-.59-1.43-.59-.52 0-1.04.2-1.43.59L10.3 9.45l-7.72 7.72c-.78.78-.78 2.05 0 2.83L4 21.41c.39.39.9.59 1.41.59.51 0 1.02-.2 1.41-.59l7.78-7.78 2.81-2.81c.8-.78.8-2.07 0-2.86zM5.41 20L4 18.59l7.72-7.72 1.47 1.35L5.41 20z\"/>\n",
              "  </svg>\n",
              "      </button>\n",
              "      \n",
              "  <style>\n",
              "    .colab-df-container {\n",
              "      display:flex;\n",
              "      flex-wrap:wrap;\n",
              "      gap: 12px;\n",
              "    }\n",
              "\n",
              "    .colab-df-convert {\n",
              "      background-color: #E8F0FE;\n",
              "      border: none;\n",
              "      border-radius: 50%;\n",
              "      cursor: pointer;\n",
              "      display: none;\n",
              "      fill: #1967D2;\n",
              "      height: 32px;\n",
              "      padding: 0 0 0 0;\n",
              "      width: 32px;\n",
              "    }\n",
              "\n",
              "    .colab-df-convert:hover {\n",
              "      background-color: #E2EBFA;\n",
              "      box-shadow: 0px 1px 2px rgba(60, 64, 67, 0.3), 0px 1px 3px 1px rgba(60, 64, 67, 0.15);\n",
              "      fill: #174EA6;\n",
              "    }\n",
              "\n",
              "    [theme=dark] .colab-df-convert {\n",
              "      background-color: #3B4455;\n",
              "      fill: #D2E3FC;\n",
              "    }\n",
              "\n",
              "    [theme=dark] .colab-df-convert:hover {\n",
              "      background-color: #434B5C;\n",
              "      box-shadow: 0px 1px 3px 1px rgba(0, 0, 0, 0.15);\n",
              "      filter: drop-shadow(0px 1px 2px rgba(0, 0, 0, 0.3));\n",
              "      fill: #FFFFFF;\n",
              "    }\n",
              "  </style>\n",
              "\n",
              "      <script>\n",
              "        const buttonEl =\n",
              "          document.querySelector('#df-ab1117b7-b7af-4387-aa37-dbbf8fc20b29 button.colab-df-convert');\n",
              "        buttonEl.style.display =\n",
              "          google.colab.kernel.accessAllowed ? 'block' : 'none';\n",
              "\n",
              "        async function convertToInteractive(key) {\n",
              "          const element = document.querySelector('#df-ab1117b7-b7af-4387-aa37-dbbf8fc20b29');\n",
              "          const dataTable =\n",
              "            await google.colab.kernel.invokeFunction('convertToInteractive',\n",
              "                                                     [key], {});\n",
              "          if (!dataTable) return;\n",
              "\n",
              "          const docLinkHtml = 'Like what you see? Visit the ' +\n",
              "            '<a target=\"_blank\" href=https://colab.research.google.com/notebooks/data_table.ipynb>data table notebook</a>'\n",
              "            + ' to learn more about interactive tables.';\n",
              "          element.innerHTML = '';\n",
              "          dataTable['output_type'] = 'display_data';\n",
              "          await google.colab.output.renderOutput(dataTable, element);\n",
              "          const docLink = document.createElement('div');\n",
              "          docLink.innerHTML = docLinkHtml;\n",
              "          element.appendChild(docLink);\n",
              "        }\n",
              "      </script>\n",
              "    </div>\n",
              "  </div>\n",
              "  "
            ]
          },
          "metadata": {},
          "execution_count": 27
        }
      ]
    },
    {
      "cell_type": "markdown",
      "source": [
        "## Training the Model on TPUs, for faster training on large batch sizes\n",
        "\n",
        "**Model Architecture was taken from this** [Github repo of ainimesh](https://github.com/ainimesh/Hindi-to-English-transliteration-using-deep-Learning-techniques)"
      ],
      "metadata": {
        "id": "NCPQEFt1FKuu"
      }
    },
    {
      "cell_type": "code",
      "source": [
        "tpu = tf.distribute.cluster_resolver.TPUClusterResolver.connect()\n",
        "tpu_strategy = tf.distribute.TPUStrategy(tpu)"
      ],
      "metadata": {
        "id": "e8_RDKt-P1wD"
      },
      "execution_count": null,
      "outputs": []
    },
    {
      "cell_type": "code",
      "source": [
        "with tpu_strategy.scope():\n",
        "\n",
        "    # Load data\n",
        "    data = df_trn.copy()\n",
        "\n",
        "    # Split data into training and validation sets\n",
        "    train_data = data.sample(frac=1., random_state=0)\n",
        "\n",
        "    # Tokenize English_text and Hindi_text\n",
        "    english_tokenizer = Tokenizer(char_level=True)\n",
        "    english_tokenizer.fit_on_texts(train_data['English_text'])\n",
        "\n",
        "    hindi_tokenizer = Tokenizer(char_level=True)\n",
        "    hindi_tokenizer.fit_on_texts(train_data['Hindi_text'])\n",
        "\n",
        "    joblib.dump(english_tokenizer,'english_tokenizer')\n",
        "    joblib.dump(hindi_tokenizer,'hindi_tokenizer')\n",
        "\n",
        "    # Convert text to sequences\n",
        "    train_eng_sequences = english_tokenizer.texts_to_sequences(train_data['English_text'])\n",
        "    train_hin_sequences = hindi_tokenizer.texts_to_sequences(train_data['Hindi_text'])\n",
        "\n",
        "    # Pad sequences\n",
        "    train_eng_padded = pad_sequences(train_eng_sequences, padding='post', maxlen=100, truncating='post')\n",
        "    train_hin_padded = pad_sequences(train_hin_sequences, padding='post', maxlen=100, truncating='post')\n",
        "\n",
        "    # Define model architecture\n",
        "\n",
        "    model = tf.keras.Sequential([\n",
        "        tf.keras.layers.Embedding(len(english_tokenizer.word_index)+1, 256, input_length=100),\n",
        "        #encoder  \n",
        "        tf.keras.layers.Bidirectional(tf.keras.layers.LSTM(256)),\n",
        "        tf.keras.layers.RepeatVector(100),\n",
        "        #decoder\n",
        "        tf.keras.layers.Bidirectional(tf.keras.layers.LSTM(256, return_sequences=True)),\n",
        "        tf.keras.layers.TimeDistributed(tf.keras.layers.Dense(512, activation='relu')),\n",
        "        tf.keras.layers.Dropout(0.5),\n",
        "        tf.keras.layers.TimeDistributed(tf.keras.layers.Dense(len(hindi_tokenizer.word_index)+1, activation='softmax'))\n",
        "    ])\n",
        "\n",
        "\n",
        "    callbacks = [\n",
        "        tf.keras.callbacks.ModelCheckpoint(\n",
        "            \"best_model.h5\", save_best_only=True, monitor=\"val_accuracy\",mode='max'\n",
        "        ),\n",
        "        tf.keras.callbacks.ReduceLROnPlateau(\n",
        "        monitor=\"val_accuracy\", factor=0.5, patience=20, min_lr=0.0001,mode='max',\n",
        "    ),\n",
        "    tf.keras.callbacks.EarlyStopping(monitor=\"val_accuracy\", patience=20, verbose=1)\n",
        "    ]\n",
        "    # Compile model\n",
        "    model.compile(loss='sparse_categorical_crossentropy', optimizer='adam', metrics=['accuracy'])\n",
        "\n",
        "    # Train model\n",
        "    history = model.fit(train_eng_padded, train_hin_padded, epochs=50, validation_split = 0.15, batch_size=256 , callbacks=callbacks)\n"
      ],
      "metadata": {
        "colab": {
          "base_uri": "https://localhost:8080/"
        },
        "id": "9W0VeMdHjjWU",
        "outputId": "573262dc-d065-4a9e-f6b2-5a8ae7a24b48"
      },
      "execution_count": null,
      "outputs": [
        {
          "output_type": "stream",
          "name": "stdout",
          "text": [
            "Epoch 1/50\n",
            "64/64 [==============================] - 33s 294ms/step - loss: 0.5078 - accuracy: 0.9293 - val_loss: 0.2743 - val_accuracy: 0.9353 - lr: 0.0010\n",
            "Epoch 2/50\n",
            "64/64 [==============================] - 7s 113ms/step - loss: 0.2384 - accuracy: 0.9451 - val_loss: 0.2215 - val_accuracy: 0.9459 - lr: 0.0010\n",
            "Epoch 3/50\n",
            "64/64 [==============================] - 8s 118ms/step - loss: 0.2163 - accuracy: 0.9467 - val_loss: 0.2132 - val_accuracy: 0.9470 - lr: 0.0010\n",
            "Epoch 4/50\n",
            "64/64 [==============================] - 7s 113ms/step - loss: 0.2113 - accuracy: 0.9472 - val_loss: 0.2083 - val_accuracy: 0.9476 - lr: 0.0010\n",
            "Epoch 5/50\n",
            "64/64 [==============================] - 7s 117ms/step - loss: 0.2083 - accuracy: 0.9475 - val_loss: 0.2040 - val_accuracy: 0.9481 - lr: 0.0010\n",
            "Epoch 6/50\n",
            "64/64 [==============================] - 7s 114ms/step - loss: 0.2058 - accuracy: 0.9478 - val_loss: 0.2029 - val_accuracy: 0.9481 - lr: 0.0010\n",
            "Epoch 7/50\n",
            "64/64 [==============================] - 7s 117ms/step - loss: 0.2038 - accuracy: 0.9484 - val_loss: 0.2007 - val_accuracy: 0.9490 - lr: 0.0010\n",
            "Epoch 8/50\n",
            "64/64 [==============================] - 7s 113ms/step - loss: 0.2004 - accuracy: 0.9490 - val_loss: 0.1965 - val_accuracy: 0.9494 - lr: 0.0010\n",
            "Epoch 9/50\n",
            "64/64 [==============================] - 7s 114ms/step - loss: 0.1962 - accuracy: 0.9498 - val_loss: 0.1903 - val_accuracy: 0.9507 - lr: 0.0010\n",
            "Epoch 10/50\n",
            "64/64 [==============================] - 10s 161ms/step - loss: 0.1911 - accuracy: 0.9506 - val_loss: 0.1844 - val_accuracy: 0.9523 - lr: 0.0010\n",
            "Epoch 11/50\n",
            "64/64 [==============================] - 8s 130ms/step - loss: 0.1850 - accuracy: 0.9520 - val_loss: 0.1777 - val_accuracy: 0.9537 - lr: 0.0010\n",
            "Epoch 12/50\n",
            "64/64 [==============================] - 8s 128ms/step - loss: 0.1777 - accuracy: 0.9536 - val_loss: 0.1712 - val_accuracy: 0.9551 - lr: 0.0010\n",
            "Epoch 13/50\n",
            "64/64 [==============================] - 8s 118ms/step - loss: 0.1702 - accuracy: 0.9553 - val_loss: 0.1642 - val_accuracy: 0.9568 - lr: 0.0010\n",
            "Epoch 14/50\n",
            "64/64 [==============================] - 7s 113ms/step - loss: 0.1622 - accuracy: 0.9570 - val_loss: 0.1534 - val_accuracy: 0.9591 - lr: 0.0010\n",
            "Epoch 15/50\n",
            "64/64 [==============================] - 8s 122ms/step - loss: 0.1536 - accuracy: 0.9589 - val_loss: 0.1445 - val_accuracy: 0.9610 - lr: 0.0010\n",
            "Epoch 16/50\n",
            "64/64 [==============================] - 8s 120ms/step - loss: 0.1461 - accuracy: 0.9604 - val_loss: 0.1385 - val_accuracy: 0.9624 - lr: 0.0010\n",
            "Epoch 17/50\n",
            "64/64 [==============================] - 8s 118ms/step - loss: 0.1384 - accuracy: 0.9620 - val_loss: 0.1315 - val_accuracy: 0.9637 - lr: 0.0010\n",
            "Epoch 18/50\n",
            "64/64 [==============================] - 7s 114ms/step - loss: 0.1313 - accuracy: 0.9634 - val_loss: 0.1245 - val_accuracy: 0.9651 - lr: 0.0010\n",
            "Epoch 19/50\n",
            "64/64 [==============================] - 7s 116ms/step - loss: 0.1249 - accuracy: 0.9647 - val_loss: 0.1278 - val_accuracy: 0.9646 - lr: 0.0010\n",
            "Epoch 20/50\n",
            "64/64 [==============================] - 8s 120ms/step - loss: 0.1187 - accuracy: 0.9663 - val_loss: 0.1103 - val_accuracy: 0.9683 - lr: 0.0010\n",
            "Epoch 21/50\n",
            "64/64 [==============================] - 8s 118ms/step - loss: 0.1116 - accuracy: 0.9678 - val_loss: 0.1038 - val_accuracy: 0.9699 - lr: 0.0010\n",
            "Epoch 22/50\n",
            "64/64 [==============================] - 8s 125ms/step - loss: 0.1047 - accuracy: 0.9693 - val_loss: 0.0981 - val_accuracy: 0.9711 - lr: 0.0010\n",
            "Epoch 23/50\n",
            "64/64 [==============================] - 8s 118ms/step - loss: 0.1001 - accuracy: 0.9704 - val_loss: 0.0935 - val_accuracy: 0.9723 - lr: 0.0010\n",
            "Epoch 24/50\n",
            "64/64 [==============================] - 7s 114ms/step - loss: 0.0945 - accuracy: 0.9718 - val_loss: 0.0883 - val_accuracy: 0.9734 - lr: 0.0010\n",
            "Epoch 25/50\n",
            "64/64 [==============================] - 7s 114ms/step - loss: 0.0899 - accuracy: 0.9728 - val_loss: 0.0883 - val_accuracy: 0.9738 - lr: 0.0010\n",
            "Epoch 26/50\n",
            "64/64 [==============================] - 7s 113ms/step - loss: 0.0867 - accuracy: 0.9737 - val_loss: 0.0828 - val_accuracy: 0.9750 - lr: 0.0010\n",
            "Epoch 27/50\n",
            "64/64 [==============================] - 7s 114ms/step - loss: 0.0823 - accuracy: 0.9748 - val_loss: 0.0798 - val_accuracy: 0.9760 - lr: 0.0010\n",
            "Epoch 28/50\n",
            "64/64 [==============================] - 8s 117ms/step - loss: 0.0786 - accuracy: 0.9759 - val_loss: 0.0793 - val_accuracy: 0.9762 - lr: 0.0010\n",
            "Epoch 29/50\n",
            "64/64 [==============================] - 8s 125ms/step - loss: 0.0761 - accuracy: 0.9765 - val_loss: 0.0756 - val_accuracy: 0.9769 - lr: 0.0010\n",
            "Epoch 30/50\n",
            "64/64 [==============================] - 7s 114ms/step - loss: 0.0723 - accuracy: 0.9775 - val_loss: 0.0755 - val_accuracy: 0.9769 - lr: 0.0010\n",
            "Epoch 31/50\n",
            "64/64 [==============================] - 7s 114ms/step - loss: 0.0694 - accuracy: 0.9783 - val_loss: 0.0737 - val_accuracy: 0.9777 - lr: 0.0010\n",
            "Epoch 32/50\n",
            "64/64 [==============================] - 7s 112ms/step - loss: 0.0676 - accuracy: 0.9787 - val_loss: 0.0756 - val_accuracy: 0.9768 - lr: 0.0010\n",
            "Epoch 33/50\n",
            "64/64 [==============================] - 8s 122ms/step - loss: 0.0641 - accuracy: 0.9798 - val_loss: 0.0715 - val_accuracy: 0.9787 - lr: 0.0010\n",
            "Epoch 34/50\n",
            "64/64 [==============================] - 8s 122ms/step - loss: 0.0610 - accuracy: 0.9806 - val_loss: 0.0701 - val_accuracy: 0.9791 - lr: 0.0010\n",
            "Epoch 35/50\n",
            "64/64 [==============================] - 8s 120ms/step - loss: 0.0583 - accuracy: 0.9814 - val_loss: 0.0715 - val_accuracy: 0.9793 - lr: 0.0010\n",
            "Epoch 36/50\n",
            "64/64 [==============================] - 8s 123ms/step - loss: 0.0560 - accuracy: 0.9821 - val_loss: 0.0711 - val_accuracy: 0.9795 - lr: 0.0010\n",
            "Epoch 37/50\n",
            "64/64 [==============================] - 8s 124ms/step - loss: 0.0552 - accuracy: 0.9823 - val_loss: 0.0730 - val_accuracy: 0.9794 - lr: 0.0010\n",
            "Epoch 38/50\n",
            "64/64 [==============================] - 7s 115ms/step - loss: 0.0535 - accuracy: 0.9828 - val_loss: 0.0698 - val_accuracy: 0.9799 - lr: 0.0010\n",
            "Epoch 39/50\n",
            "64/64 [==============================] - 8s 124ms/step - loss: 0.0498 - accuracy: 0.9839 - val_loss: 0.0733 - val_accuracy: 0.9797 - lr: 0.0010\n",
            "Epoch 40/50\n",
            "64/64 [==============================] - 8s 122ms/step - loss: 0.0477 - accuracy: 0.9845 - val_loss: 0.0703 - val_accuracy: 0.9804 - lr: 0.0010\n",
            "Epoch 41/50\n",
            "64/64 [==============================] - 8s 124ms/step - loss: 0.0445 - accuracy: 0.9856 - val_loss: 0.0728 - val_accuracy: 0.9804 - lr: 0.0010\n",
            "Epoch 42/50\n",
            "64/64 [==============================] - 8s 124ms/step - loss: 0.0428 - accuracy: 0.9860 - val_loss: 0.0744 - val_accuracy: 0.9806 - lr: 0.0010\n",
            "Epoch 43/50\n",
            "64/64 [==============================] - 8s 127ms/step - loss: 0.0408 - accuracy: 0.9867 - val_loss: 0.0724 - val_accuracy: 0.9803 - lr: 0.0010\n",
            "Epoch 44/50\n",
            "64/64 [==============================] - 8s 121ms/step - loss: 0.0411 - accuracy: 0.9865 - val_loss: 0.0757 - val_accuracy: 0.9804 - lr: 0.0010\n",
            "Epoch 45/50\n",
            "64/64 [==============================] - 7s 114ms/step - loss: 0.0385 - accuracy: 0.9874 - val_loss: 0.0735 - val_accuracy: 0.9809 - lr: 0.0010\n",
            "Epoch 46/50\n",
            "64/64 [==============================] - 8s 118ms/step - loss: 0.0359 - accuracy: 0.9882 - val_loss: 0.0760 - val_accuracy: 0.9810 - lr: 0.0010\n",
            "Epoch 47/50\n",
            "64/64 [==============================] - 7s 114ms/step - loss: 0.0347 - accuracy: 0.9886 - val_loss: 0.0768 - val_accuracy: 0.9811 - lr: 0.0010\n",
            "Epoch 48/50\n",
            "64/64 [==============================] - 8s 122ms/step - loss: 0.0331 - accuracy: 0.9891 - val_loss: 0.0847 - val_accuracy: 0.9806 - lr: 0.0010\n",
            "Epoch 49/50\n",
            "64/64 [==============================] - 8s 122ms/step - loss: 0.0324 - accuracy: 0.9893 - val_loss: 0.0805 - val_accuracy: 0.9812 - lr: 0.0010\n",
            "Epoch 50/50\n",
            "64/64 [==============================] - 8s 118ms/step - loss: 0.0302 - accuracy: 0.9900 - val_loss: 0.0817 - val_accuracy: 0.9811 - lr: 0.0010\n"
          ]
        }
      ]
    },
    {
      "cell_type": "markdown",
      "source": [
        "## Making Predictions on the validation Set"
      ],
      "metadata": {
        "id": "ReEcFfIgFElQ"
      }
    },
    {
      "cell_type": "code",
      "source": [
        "model = tf.keras.models.load_model(\"best_model.h5\")"
      ],
      "metadata": {
        "id": "z-JUnH9hCAtT"
      },
      "execution_count": null,
      "outputs": []
    },
    {
      "cell_type": "code",
      "source": [
        "# english_tokenizer = joblib.load('english_tokenizer')\n",
        "# hindi_tokenizer = joblib.load('hindi_tokenizer')"
      ],
      "metadata": {
        "id": "6kToBzhyCGFr"
      },
      "execution_count": null,
      "outputs": []
    },
    {
      "cell_type": "code",
      "source": [
        "eng_text = val['English_text'].tolist()\n",
        "hn_text = val['Hindi_text'].tolist()\n",
        "english_text = []\n",
        "hindi_text = []\n",
        "for x,y in zip(eng_text,hn_text):\n",
        "    a1 = x.split()\n",
        "    a2 = y.split()\n",
        "    if len(a1)==len(a2):\n",
        "        english_text += a1\n",
        "        hindi_text += a2\n",
        "print(len(english_text),len(hindi_text))"
      ],
      "metadata": {
        "id": "3vW6E8E3XBIN",
        "colab": {
          "base_uri": "https://localhost:8080/"
        },
        "outputId": "453baa06-3e25-455a-e13f-75d961bfe97b"
      },
      "execution_count": null,
      "outputs": [
        {
          "output_type": "stream",
          "name": "stdout",
          "text": [
            "1422 1422\n"
          ]
        }
      ]
    },
    {
      "cell_type": "code",
      "source": [
        "df_val = pd.DataFrame(np.column_stack((english_text,hindi_text)),columns=['English_text','Hindi_text'])\n",
        "df_val.sample(n=10)"
      ],
      "metadata": {
        "colab": {
          "base_uri": "https://localhost:8080/",
          "height": 362
        },
        "id": "3rFIVnOtEQdu",
        "outputId": "6d1a0c27-c4dc-4baa-f9b9-b71b15f23753"
      },
      "execution_count": null,
      "outputs": [
        {
          "output_type": "execute_result",
          "data": {
            "text/plain": [
              "       English_text   Hindi_text\n",
              "1315          tirap         तिरप\n",
              "696            jeff          जेफ\n",
              "899            mera         मेरा\n",
              "1327          world       वर्ल्ड\n",
              "1350     university  यूनिवर्सिटी\n",
              "462     faizullapur    फैज़ुलापुर\n",
              "1367  environnement   एनवायरमेंट\n",
              "1077     prometheus   प्रोमिथेउस\n",
              "1165        ravidas       रविदास\n",
              "428          dozakh        दोज़ख"
            ],
            "text/html": [
              "\n",
              "  <div id=\"df-f35e68f1-d679-42a8-985c-5acd57e0db32\">\n",
              "    <div class=\"colab-df-container\">\n",
              "      <div>\n",
              "<style scoped>\n",
              "    .dataframe tbody tr th:only-of-type {\n",
              "        vertical-align: middle;\n",
              "    }\n",
              "\n",
              "    .dataframe tbody tr th {\n",
              "        vertical-align: top;\n",
              "    }\n",
              "\n",
              "    .dataframe thead th {\n",
              "        text-align: right;\n",
              "    }\n",
              "</style>\n",
              "<table border=\"1\" class=\"dataframe\">\n",
              "  <thead>\n",
              "    <tr style=\"text-align: right;\">\n",
              "      <th></th>\n",
              "      <th>English_text</th>\n",
              "      <th>Hindi_text</th>\n",
              "    </tr>\n",
              "  </thead>\n",
              "  <tbody>\n",
              "    <tr>\n",
              "      <th>1315</th>\n",
              "      <td>tirap</td>\n",
              "      <td>तिरप</td>\n",
              "    </tr>\n",
              "    <tr>\n",
              "      <th>696</th>\n",
              "      <td>jeff</td>\n",
              "      <td>जेफ</td>\n",
              "    </tr>\n",
              "    <tr>\n",
              "      <th>899</th>\n",
              "      <td>mera</td>\n",
              "      <td>मेरा</td>\n",
              "    </tr>\n",
              "    <tr>\n",
              "      <th>1327</th>\n",
              "      <td>world</td>\n",
              "      <td>वर्ल्ड</td>\n",
              "    </tr>\n",
              "    <tr>\n",
              "      <th>1350</th>\n",
              "      <td>university</td>\n",
              "      <td>यूनिवर्सिटी</td>\n",
              "    </tr>\n",
              "    <tr>\n",
              "      <th>462</th>\n",
              "      <td>faizullapur</td>\n",
              "      <td>फैज़ुलापुर</td>\n",
              "    </tr>\n",
              "    <tr>\n",
              "      <th>1367</th>\n",
              "      <td>environnement</td>\n",
              "      <td>एनवायरमेंट</td>\n",
              "    </tr>\n",
              "    <tr>\n",
              "      <th>1077</th>\n",
              "      <td>prometheus</td>\n",
              "      <td>प्रोमिथेउस</td>\n",
              "    </tr>\n",
              "    <tr>\n",
              "      <th>1165</th>\n",
              "      <td>ravidas</td>\n",
              "      <td>रविदास</td>\n",
              "    </tr>\n",
              "    <tr>\n",
              "      <th>428</th>\n",
              "      <td>dozakh</td>\n",
              "      <td>दोज़ख</td>\n",
              "    </tr>\n",
              "  </tbody>\n",
              "</table>\n",
              "</div>\n",
              "      <button class=\"colab-df-convert\" onclick=\"convertToInteractive('df-f35e68f1-d679-42a8-985c-5acd57e0db32')\"\n",
              "              title=\"Convert this dataframe to an interactive table.\"\n",
              "              style=\"display:none;\">\n",
              "        \n",
              "  <svg xmlns=\"http://www.w3.org/2000/svg\" height=\"24px\"viewBox=\"0 0 24 24\"\n",
              "       width=\"24px\">\n",
              "    <path d=\"M0 0h24v24H0V0z\" fill=\"none\"/>\n",
              "    <path d=\"M18.56 5.44l.94 2.06.94-2.06 2.06-.94-2.06-.94-.94-2.06-.94 2.06-2.06.94zm-11 1L8.5 8.5l.94-2.06 2.06-.94-2.06-.94L8.5 2.5l-.94 2.06-2.06.94zm10 10l.94 2.06.94-2.06 2.06-.94-2.06-.94-.94-2.06-.94 2.06-2.06.94z\"/><path d=\"M17.41 7.96l-1.37-1.37c-.4-.4-.92-.59-1.43-.59-.52 0-1.04.2-1.43.59L10.3 9.45l-7.72 7.72c-.78.78-.78 2.05 0 2.83L4 21.41c.39.39.9.59 1.41.59.51 0 1.02-.2 1.41-.59l7.78-7.78 2.81-2.81c.8-.78.8-2.07 0-2.86zM5.41 20L4 18.59l7.72-7.72 1.47 1.35L5.41 20z\"/>\n",
              "  </svg>\n",
              "      </button>\n",
              "      \n",
              "  <style>\n",
              "    .colab-df-container {\n",
              "      display:flex;\n",
              "      flex-wrap:wrap;\n",
              "      gap: 12px;\n",
              "    }\n",
              "\n",
              "    .colab-df-convert {\n",
              "      background-color: #E8F0FE;\n",
              "      border: none;\n",
              "      border-radius: 50%;\n",
              "      cursor: pointer;\n",
              "      display: none;\n",
              "      fill: #1967D2;\n",
              "      height: 32px;\n",
              "      padding: 0 0 0 0;\n",
              "      width: 32px;\n",
              "    }\n",
              "\n",
              "    .colab-df-convert:hover {\n",
              "      background-color: #E2EBFA;\n",
              "      box-shadow: 0px 1px 2px rgba(60, 64, 67, 0.3), 0px 1px 3px 1px rgba(60, 64, 67, 0.15);\n",
              "      fill: #174EA6;\n",
              "    }\n",
              "\n",
              "    [theme=dark] .colab-df-convert {\n",
              "      background-color: #3B4455;\n",
              "      fill: #D2E3FC;\n",
              "    }\n",
              "\n",
              "    [theme=dark] .colab-df-convert:hover {\n",
              "      background-color: #434B5C;\n",
              "      box-shadow: 0px 1px 3px 1px rgba(0, 0, 0, 0.15);\n",
              "      filter: drop-shadow(0px 1px 2px rgba(0, 0, 0, 0.3));\n",
              "      fill: #FFFFFF;\n",
              "    }\n",
              "  </style>\n",
              "\n",
              "      <script>\n",
              "        const buttonEl =\n",
              "          document.querySelector('#df-f35e68f1-d679-42a8-985c-5acd57e0db32 button.colab-df-convert');\n",
              "        buttonEl.style.display =\n",
              "          google.colab.kernel.accessAllowed ? 'block' : 'none';\n",
              "\n",
              "        async function convertToInteractive(key) {\n",
              "          const element = document.querySelector('#df-f35e68f1-d679-42a8-985c-5acd57e0db32');\n",
              "          const dataTable =\n",
              "            await google.colab.kernel.invokeFunction('convertToInteractive',\n",
              "                                                     [key], {});\n",
              "          if (!dataTable) return;\n",
              "\n",
              "          const docLinkHtml = 'Like what you see? Visit the ' +\n",
              "            '<a target=\"_blank\" href=https://colab.research.google.com/notebooks/data_table.ipynb>data table notebook</a>'\n",
              "            + ' to learn more about interactive tables.';\n",
              "          element.innerHTML = '';\n",
              "          dataTable['output_type'] = 'display_data';\n",
              "          await google.colab.output.renderOutput(dataTable, element);\n",
              "          const docLink = document.createElement('div');\n",
              "          docLink.innerHTML = docLinkHtml;\n",
              "          element.appendChild(docLink);\n",
              "        }\n",
              "      </script>\n",
              "    </div>\n",
              "  </div>\n",
              "  "
            ]
          },
          "metadata": {},
          "execution_count": 34
        }
      ]
    },
    {
      "cell_type": "code",
      "source": [
        "# Make predictions on val set\n",
        "\n",
        "test_eng_sequences = english_tokenizer.texts_to_sequences(df_val['English_text'])\n",
        "test_hin_sequences = hindi_tokenizer.texts_to_sequences(df_val['Hindi_text'])\n",
        "\n",
        "test_eng_padded = pad_sequences(test_eng_sequences, padding='post', maxlen=100, truncating='post')\n",
        "test_hin_padded = pad_sequences(test_hin_sequences, padding='post', maxlen=100, truncating='post')\n",
        "\n",
        "preds = model.predict(test_eng_padded)\n",
        "\n",
        "# Convert predictions to text\n",
        "predicted_text = []\n",
        "for pred in preds:\n",
        "    text = hindi_tokenizer.sequences_to_texts([[np.argmax(p)] for p in pred])\n",
        "    text1 = \"\".join(text)\n",
        "    predicted_text.append(text1)"
      ],
      "metadata": {
        "colab": {
          "base_uri": "https://localhost:8080/"
        },
        "id": "fZtO-1Rt_XWZ",
        "outputId": "8c88c9fb-7b34-4ba8-e7d8-2aba482e80d2"
      },
      "execution_count": null,
      "outputs": [
        {
          "output_type": "stream",
          "name": "stdout",
          "text": [
            "45/45 [==============================] - 8s 132ms/step\n"
          ]
        }
      ]
    },
    {
      "cell_type": "markdown",
      "source": [
        "### Model performace on the test set"
      ],
      "metadata": {
        "id": "w3gWrr0mFxnt"
      }
    },
    {
      "cell_type": "code",
      "source": [
        "model.evaluate(test_eng_padded,test_hin_padded)"
      ],
      "metadata": {
        "colab": {
          "base_uri": "https://localhost:8080/"
        },
        "id": "rQQhzwBGWVST",
        "outputId": "2281fb93-4621-4747-e9af-9e28460d53c7"
      },
      "execution_count": null,
      "outputs": [
        {
          "output_type": "stream",
          "name": "stdout",
          "text": [
            "45/45 [==============================] - 7s 128ms/step - loss: 0.0790 - accuracy: 0.9815\n"
          ]
        },
        {
          "output_type": "execute_result",
          "data": {
            "text/plain": [
              "[0.07896941155195236, 0.9814697504043579]"
            ]
          },
          "metadata": {},
          "execution_count": 36
        }
      ]
    },
    {
      "cell_type": "code",
      "source": [
        "df_val['predicted_text'] = predicted_text"
      ],
      "metadata": {
        "id": "zBugVG6VIzjM"
      },
      "execution_count": null,
      "outputs": []
    },
    {
      "cell_type": "code",
      "source": [
        "df_val.head(n=20)"
      ],
      "metadata": {
        "colab": {
          "base_uri": "https://localhost:8080/",
          "height": 676
        },
        "id": "JlRk24mZKi86",
        "outputId": "de948cf9-8ec5-4580-ea15-8fd99a07419d"
      },
      "execution_count": null,
      "outputs": [
        {
          "output_type": "execute_result",
          "data": {
            "text/plain": [
              "        English_text   Hindi_text predicted_text\n",
              "0   aachaaryanandana  आचार्यनंदना     आचार्यिंदन\n",
              "1        aachaarysut    आचार्यसुत      आचार्युुत\n",
              "2      aacharynandan   आचार्यनंदन      आचार्यंंन\n",
              "3    aacharynandanaa  आचार्यनंदना     आचार्यनंना\n",
              "4          aadamkhor       आदमखोर          आदमोो\n",
              "5                aag           आग             आग\n",
              "6                aur           और             और\n",
              "7              shola         शोला           शोला\n",
              "8                aaj           आज             आज\n",
              "9                 ki           की             की\n",
              "10              baat          बात            बात\n",
              "11               aaj           आज             आज\n",
              "12                ki           की             की\n",
              "13              taza         ताज़ा           तााा\n",
              "14            khabar          खबर            खबर\n",
              "15         aakanksha     आकांक्षा       आकाकक्षा\n",
              "16               aan           आन             आन\n",
              "17           aankhon        आँखों          आँखों\n",
              "18             dekhi         देखी           देखी\n",
              "19            aansoo         आँसू           आँसू"
            ],
            "text/html": [
              "\n",
              "  <div id=\"df-a135b0b6-aa26-4703-9f80-3f792a52e599\">\n",
              "    <div class=\"colab-df-container\">\n",
              "      <div>\n",
              "<style scoped>\n",
              "    .dataframe tbody tr th:only-of-type {\n",
              "        vertical-align: middle;\n",
              "    }\n",
              "\n",
              "    .dataframe tbody tr th {\n",
              "        vertical-align: top;\n",
              "    }\n",
              "\n",
              "    .dataframe thead th {\n",
              "        text-align: right;\n",
              "    }\n",
              "</style>\n",
              "<table border=\"1\" class=\"dataframe\">\n",
              "  <thead>\n",
              "    <tr style=\"text-align: right;\">\n",
              "      <th></th>\n",
              "      <th>English_text</th>\n",
              "      <th>Hindi_text</th>\n",
              "      <th>predicted_text</th>\n",
              "    </tr>\n",
              "  </thead>\n",
              "  <tbody>\n",
              "    <tr>\n",
              "      <th>0</th>\n",
              "      <td>aachaaryanandana</td>\n",
              "      <td>आचार्यनंदना</td>\n",
              "      <td>आचार्यिंदन</td>\n",
              "    </tr>\n",
              "    <tr>\n",
              "      <th>1</th>\n",
              "      <td>aachaarysut</td>\n",
              "      <td>आचार्यसुत</td>\n",
              "      <td>आचार्युुत</td>\n",
              "    </tr>\n",
              "    <tr>\n",
              "      <th>2</th>\n",
              "      <td>aacharynandan</td>\n",
              "      <td>आचार्यनंदन</td>\n",
              "      <td>आचार्यंंन</td>\n",
              "    </tr>\n",
              "    <tr>\n",
              "      <th>3</th>\n",
              "      <td>aacharynandanaa</td>\n",
              "      <td>आचार्यनंदना</td>\n",
              "      <td>आचार्यनंना</td>\n",
              "    </tr>\n",
              "    <tr>\n",
              "      <th>4</th>\n",
              "      <td>aadamkhor</td>\n",
              "      <td>आदमखोर</td>\n",
              "      <td>आदमोो</td>\n",
              "    </tr>\n",
              "    <tr>\n",
              "      <th>5</th>\n",
              "      <td>aag</td>\n",
              "      <td>आग</td>\n",
              "      <td>आग</td>\n",
              "    </tr>\n",
              "    <tr>\n",
              "      <th>6</th>\n",
              "      <td>aur</td>\n",
              "      <td>और</td>\n",
              "      <td>और</td>\n",
              "    </tr>\n",
              "    <tr>\n",
              "      <th>7</th>\n",
              "      <td>shola</td>\n",
              "      <td>शोला</td>\n",
              "      <td>शोला</td>\n",
              "    </tr>\n",
              "    <tr>\n",
              "      <th>8</th>\n",
              "      <td>aaj</td>\n",
              "      <td>आज</td>\n",
              "      <td>आज</td>\n",
              "    </tr>\n",
              "    <tr>\n",
              "      <th>9</th>\n",
              "      <td>ki</td>\n",
              "      <td>की</td>\n",
              "      <td>की</td>\n",
              "    </tr>\n",
              "    <tr>\n",
              "      <th>10</th>\n",
              "      <td>baat</td>\n",
              "      <td>बात</td>\n",
              "      <td>बात</td>\n",
              "    </tr>\n",
              "    <tr>\n",
              "      <th>11</th>\n",
              "      <td>aaj</td>\n",
              "      <td>आज</td>\n",
              "      <td>आज</td>\n",
              "    </tr>\n",
              "    <tr>\n",
              "      <th>12</th>\n",
              "      <td>ki</td>\n",
              "      <td>की</td>\n",
              "      <td>की</td>\n",
              "    </tr>\n",
              "    <tr>\n",
              "      <th>13</th>\n",
              "      <td>taza</td>\n",
              "      <td>ताज़ा</td>\n",
              "      <td>तााा</td>\n",
              "    </tr>\n",
              "    <tr>\n",
              "      <th>14</th>\n",
              "      <td>khabar</td>\n",
              "      <td>खबर</td>\n",
              "      <td>खबर</td>\n",
              "    </tr>\n",
              "    <tr>\n",
              "      <th>15</th>\n",
              "      <td>aakanksha</td>\n",
              "      <td>आकांक्षा</td>\n",
              "      <td>आकाकक्षा</td>\n",
              "    </tr>\n",
              "    <tr>\n",
              "      <th>16</th>\n",
              "      <td>aan</td>\n",
              "      <td>आन</td>\n",
              "      <td>आन</td>\n",
              "    </tr>\n",
              "    <tr>\n",
              "      <th>17</th>\n",
              "      <td>aankhon</td>\n",
              "      <td>आँखों</td>\n",
              "      <td>आँखों</td>\n",
              "    </tr>\n",
              "    <tr>\n",
              "      <th>18</th>\n",
              "      <td>dekhi</td>\n",
              "      <td>देखी</td>\n",
              "      <td>देखी</td>\n",
              "    </tr>\n",
              "    <tr>\n",
              "      <th>19</th>\n",
              "      <td>aansoo</td>\n",
              "      <td>आँसू</td>\n",
              "      <td>आँसू</td>\n",
              "    </tr>\n",
              "  </tbody>\n",
              "</table>\n",
              "</div>\n",
              "      <button class=\"colab-df-convert\" onclick=\"convertToInteractive('df-a135b0b6-aa26-4703-9f80-3f792a52e599')\"\n",
              "              title=\"Convert this dataframe to an interactive table.\"\n",
              "              style=\"display:none;\">\n",
              "        \n",
              "  <svg xmlns=\"http://www.w3.org/2000/svg\" height=\"24px\"viewBox=\"0 0 24 24\"\n",
              "       width=\"24px\">\n",
              "    <path d=\"M0 0h24v24H0V0z\" fill=\"none\"/>\n",
              "    <path d=\"M18.56 5.44l.94 2.06.94-2.06 2.06-.94-2.06-.94-.94-2.06-.94 2.06-2.06.94zm-11 1L8.5 8.5l.94-2.06 2.06-.94-2.06-.94L8.5 2.5l-.94 2.06-2.06.94zm10 10l.94 2.06.94-2.06 2.06-.94-2.06-.94-.94-2.06-.94 2.06-2.06.94z\"/><path d=\"M17.41 7.96l-1.37-1.37c-.4-.4-.92-.59-1.43-.59-.52 0-1.04.2-1.43.59L10.3 9.45l-7.72 7.72c-.78.78-.78 2.05 0 2.83L4 21.41c.39.39.9.59 1.41.59.51 0 1.02-.2 1.41-.59l7.78-7.78 2.81-2.81c.8-.78.8-2.07 0-2.86zM5.41 20L4 18.59l7.72-7.72 1.47 1.35L5.41 20z\"/>\n",
              "  </svg>\n",
              "      </button>\n",
              "      \n",
              "  <style>\n",
              "    .colab-df-container {\n",
              "      display:flex;\n",
              "      flex-wrap:wrap;\n",
              "      gap: 12px;\n",
              "    }\n",
              "\n",
              "    .colab-df-convert {\n",
              "      background-color: #E8F0FE;\n",
              "      border: none;\n",
              "      border-radius: 50%;\n",
              "      cursor: pointer;\n",
              "      display: none;\n",
              "      fill: #1967D2;\n",
              "      height: 32px;\n",
              "      padding: 0 0 0 0;\n",
              "      width: 32px;\n",
              "    }\n",
              "\n",
              "    .colab-df-convert:hover {\n",
              "      background-color: #E2EBFA;\n",
              "      box-shadow: 0px 1px 2px rgba(60, 64, 67, 0.3), 0px 1px 3px 1px rgba(60, 64, 67, 0.15);\n",
              "      fill: #174EA6;\n",
              "    }\n",
              "\n",
              "    [theme=dark] .colab-df-convert {\n",
              "      background-color: #3B4455;\n",
              "      fill: #D2E3FC;\n",
              "    }\n",
              "\n",
              "    [theme=dark] .colab-df-convert:hover {\n",
              "      background-color: #434B5C;\n",
              "      box-shadow: 0px 1px 3px 1px rgba(0, 0, 0, 0.15);\n",
              "      filter: drop-shadow(0px 1px 2px rgba(0, 0, 0, 0.3));\n",
              "      fill: #FFFFFF;\n",
              "    }\n",
              "  </style>\n",
              "\n",
              "      <script>\n",
              "        const buttonEl =\n",
              "          document.querySelector('#df-a135b0b6-aa26-4703-9f80-3f792a52e599 button.colab-df-convert');\n",
              "        buttonEl.style.display =\n",
              "          google.colab.kernel.accessAllowed ? 'block' : 'none';\n",
              "\n",
              "        async function convertToInteractive(key) {\n",
              "          const element = document.querySelector('#df-a135b0b6-aa26-4703-9f80-3f792a52e599');\n",
              "          const dataTable =\n",
              "            await google.colab.kernel.invokeFunction('convertToInteractive',\n",
              "                                                     [key], {});\n",
              "          if (!dataTable) return;\n",
              "\n",
              "          const docLinkHtml = 'Like what you see? Visit the ' +\n",
              "            '<a target=\"_blank\" href=https://colab.research.google.com/notebooks/data_table.ipynb>data table notebook</a>'\n",
              "            + ' to learn more about interactive tables.';\n",
              "          element.innerHTML = '';\n",
              "          dataTable['output_type'] = 'display_data';\n",
              "          await google.colab.output.renderOutput(dataTable, element);\n",
              "          const docLink = document.createElement('div');\n",
              "          docLink.innerHTML = docLinkHtml;\n",
              "          element.appendChild(docLink);\n",
              "        }\n",
              "      </script>\n",
              "    </div>\n",
              "  </div>\n",
              "  "
            ]
          },
          "metadata": {},
          "execution_count": 38
        }
      ]
    },
    {
      "cell_type": "markdown",
      "source": [
        "### Train and Validation plots"
      ],
      "metadata": {
        "id": "FilPyuvwE-gf"
      }
    },
    {
      "cell_type": "code",
      "source": [
        "import matplotlib.pyplot as plt"
      ],
      "metadata": {
        "id": "h0zY7KOFVwfA"
      },
      "execution_count": null,
      "outputs": []
    },
    {
      "cell_type": "code",
      "source": [
        "plt.plot(history.history['loss'])\n",
        "plt.plot(history.history['val_loss'])\n",
        "plt.legend(['train','validation'])\n",
        "plt.show()"
      ],
      "metadata": {
        "colab": {
          "base_uri": "https://localhost:8080/",
          "height": 430
        },
        "id": "iDv2ngxCFT7u",
        "outputId": "e6f07704-7942-4ffe-d844-6e9f7eaf54ef"
      },
      "execution_count": null,
      "outputs": [
        {
          "output_type": "display_data",
          "data": {
            "text/plain": [
              "<Figure size 640x480 with 1 Axes>"
            ],
            "image/png": "[encoded data removed]"
          },
          "metadata": {}
        }
      ]
    },
    {
      "cell_type": "code",
      "source": [
        "plt.plot(history.history['accuracy'])\n",
        "plt.plot(history.history['val_accuracy'])\n",
        "plt.title('model accuracy')\n",
        "plt.ylabel('accuracy')\n",
        "plt.xlabel('epoch')\n",
        "plt.legend(['train', 'val'], loc='upper left')\n",
        "plt.show()"
      ],
      "metadata": {
        "colab": {
          "base_uri": "https://localhost:8080/",
          "height": 472
        },
        "id": "JQkW9TqQgC3p",
        "outputId": "41185e79-e06f-42a4-82de-6250554129e5"
      },
      "execution_count": null,
      "outputs": [
        {
          "output_type": "display_data",
          "data": {
            "text/plain": [
              "<Figure size 640x480 with 1 Axes>"
            ],
            "image/png": "[encoded data removed]"
          },
          "metadata": {}
        }
      ]
    },
    {
      "cell_type": "code",
      "source": [],
      "metadata": {
        "id": "H5pcm0s2E4MU"
      },
      "execution_count": null,
      "outputs": []
    },
    {
      "cell_type": "code",
      "source": [],
      "metadata": {
        "id": "o8ygeG5cGaHo"
      },
      "execution_count": null,
      "outputs": []
    }
  ]
}